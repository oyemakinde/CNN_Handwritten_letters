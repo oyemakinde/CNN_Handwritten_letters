{
  "cells": [
    {
      "cell_type": "markdown",
      "metadata": {
        "id": "view-in-github",
        "colab_type": "text"
      },
      "source": [
        "<a href=\"https://colab.research.google.com/github/oyemakinde/CNN_Handwritten_letters/blob/main/Oyewole7755_midtermproject.ipynb\" target=\"_parent\"><img src=\"https://colab.research.google.com/assets/colab-badge.svg\" alt=\"Open In Colab\"/></a>"
      ]
    },
    {
      "cell_type": "code",
      "execution_count": null,
      "metadata": {
        "colab": {
          "base_uri": "https://localhost:8080/"
        },
        "id": "rAYznzPfeSk5",
        "outputId": "253cfe31-3da8-45f1-9fc8-c84a912cccf5"
      },
      "outputs": [
        {
          "name": "stdout",
          "output_type": "stream",
          "text": [
            "Drive already mounted at /content/GoogleDrive; to attempt to forcibly remount, call drive.mount(\"/content/GoogleDrive\", force_remount=True).\n"
          ]
        }
      ],
      "source": [
        "#‐‐‐‐‐‐Mount your Google Drive ‐‐‐‐‐\n",
        "from google.colab import drive\n",
        "drive.mount('/content/GoogleDrive')\n"
      ]
    },
    {
      "cell_type": "code",
      "execution_count": null,
      "metadata": {
        "id": "yyMO2AA9eXkn"
      },
      "outputs": [],
      "source": [
        "import tensorflow as tf\n",
        "from tensorflow import keras\n",
        "from tensorflow.keras import layers\n",
        "import numpy as np"
      ]
    },
    {
      "cell_type": "code",
      "execution_count": null,
      "metadata": {
        "id": "_vOomIkceW9v"
      },
      "outputs": [],
      "source": [
        "\n",
        "train_images = np.load('GoogleDrive/MyDrive/dataset/train_images.npy')\n",
        "train_labels = np.load('GoogleDrive/MyDrive/dataset/train_labels.npy')\n",
        "test_images = np.load('GoogleDrive/MyDrive/dataset/test_images.npy')\n",
        "test_labels = np.load('GoogleDrive/MyDrive/dataset/test_labels.npy')"
      ]
    },
    {
      "cell_type": "code",
      "execution_count": null,
      "metadata": {
        "colab": {
          "background_save": true,
          "base_uri": "https://localhost:8080/"
        },
        "id": "qIXFGzJRB2wn",
        "outputId": "975eda5c-aaaf-43c8-9aa4-22b7df8360d9"
      },
      "outputs": [
        {
          "name": "stdout",
          "output_type": "stream",
          "text": [
            "Epoch 1/5\n",
            "4656/4656 [==============================] - 275s 59ms/step - loss: 0.1297 - accuracy: 0.9634\n",
            "Epoch 2/5\n",
            "4656/4656 [==============================] - 271s 58ms/step - loss: 0.0497 - accuracy: 0.9867\n",
            "Epoch 3/5\n",
            "4656/4656 [==============================] - 253s 54ms/step - loss: 0.0385 - accuracy: 0.9895\n",
            "Epoch 4/5\n",
            "4656/4656 [==============================] - 250s 54ms/step - loss: 0.0316 - accuracy: 0.9914\n",
            "Epoch 5/5\n",
            "4656/4656 [==============================] - 239s 51ms/step - loss: 0.0254 - accuracy: 0.9933\n",
            "2328/2328 [==============================] - 22s 9ms/step - loss: 0.0342 - accuracy: 0.9910\n",
            "Test accuracy: 0.991\n"
          ]
        }
      ],
      "source": [
        "\n",
        "\n",
        "# Reshape the images\n",
        "num_train_samples = len(train_images)\n",
        "num_test_samples = len(test_images)\n",
        "train_images = train_images.reshape((num_train_samples, 28, 28, 1))\n",
        "test_images = test_images.reshape((num_test_samples, 28, 28, 1))\n",
        "\n",
        "# Normalize pixel values to be between 0 and 1\n",
        "train_images, test_images = train_images / 255.0, test_images / 255.0\n",
        "\n",
        "# Define the number of classes (letters of the alphabet)\n",
        "num_classes = 26\n",
        "\n",
        "# Modify the model architecture\n",
        "inputs = keras.Input(shape=(28, 28, 1))\n",
        "x = layers.Conv2D(filters=32, kernel_size=3, activation=\"relu\")(inputs)\n",
        "x = layers.MaxPooling2D(pool_size=2)(x)\n",
        "x = layers.Conv2D(filters=64, kernel_size=3, activation=\"relu\")(x)\n",
        "x = layers.MaxPooling2D(pool_size=2)(x)\n",
        "x = layers.Conv2D(filters=128, kernel_size=3, activation=\"relu\")(x)\n",
        "x = layers.Flatten()(x)\n",
        "outputs = layers.Dense(num_classes, activation=\"softmax\")(x)\n",
        "model = keras.Model(inputs=inputs, outputs=outputs)\n",
        "\n",
        "# Compile the model\n",
        "model.compile(optimizer=\"rmsprop\",\n",
        "              loss=\"categorical_crossentropy\",\n",
        "              metrics=[\"accuracy\"])\n",
        "\n",
        "# Train the model\n",
        "model.fit(train_images, train_labels, epochs=5, batch_size=64)\n",
        "\n",
        "# Evaluate the model\n",
        "test_loss, test_acc = model.evaluate(test_images, test_labels)\n",
        "print(f\"Test accuracy: {test_acc:.3f}\")"
      ]
    }
  ],
  "metadata": {
    "colab": {
      "provenance": [],
      "authorship_tag": "ABX9TyOpEHbjk8QG+PwDB4qwDkS8",
      "include_colab_link": true
    },
    "kernelspec": {
      "display_name": "Python 3",
      "name": "python3"
    },
    "language_info": {
      "name": "python"
    }
  },
  "nbformat": 4,
  "nbformat_minor": 0
}